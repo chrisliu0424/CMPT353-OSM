{
 "cells": [
  {
   "cell_type": "code",
   "execution_count": 1,
   "metadata": {},
   "outputs": [],
   "source": [
    "import pandas as pd\n",
    "import re"
   ]
  },
  {
   "cell_type": "code",
   "execution_count": 2,
   "metadata": {},
   "outputs": [],
   "source": [
    "BC_ATT = pd.read_csv('HLLBC_ATT.csv')"
   ]
  },
  {
   "cell_type": "code",
   "execution_count": 3,
   "metadata": {},
   "outputs": [],
   "source": [
    "# extract only the columns we want\n",
    "BC_ATT = BC_ATT[['NAME',\"DESCRIPTN\",\"LATITUDE\",\"LONGITUDE\",\"KEYWORDS\"]]"
   ]
  },
  {
   "cell_type": "code",
   "execution_count": 4,
   "metadata": {},
   "outputs": [],
   "source": [
    "# filter our Non-Vancouver area\n",
    "BC_ATT = BC_ATT[(BC_ATT['LONGITUDE'] > -123.5) & (BC_ATT['LONGITUDE'] < -122)]\n",
    "BC_ATT = BC_ATT[(BC_ATT['LATITUDE'] > 49) & (BC_ATT['LATITUDE'] < 49.5)]"
   ]
  },
  {
   "cell_type": "code",
   "execution_count": 7,
   "metadata": {},
   "outputs": [],
   "source": [
    "#fill in na's and set an extra indicator coloum that this data is from attration dataset\n",
    "BC_ATT = BC_ATT.fillna(\"\")\n",
    "BC_ATT['is_att'] =1\n",
    "BC_ATT = BC_ATT.rename(columns = {\"NAME\" : \"name\", \"DESCRIPTN\" : \"amenity\", \"LATITUDE\" : \"lat\",\n",
    "              \"LONGITUDE\":\"lon\",\"KEYWORDS\":\"Keywords\"})"
   ]
  },
  {
   "cell_type": "code",
   "execution_count": 22,
   "metadata": {},
   "outputs": [
    {
     "data": {
      "text/html": [
       "<div>\n",
       "<style scoped>\n",
       "    .dataframe tbody tr th:only-of-type {\n",
       "        vertical-align: middle;\n",
       "    }\n",
       "\n",
       "    .dataframe tbody tr th {\n",
       "        vertical-align: top;\n",
       "    }\n",
       "\n",
       "    .dataframe thead th {\n",
       "        text-align: right;\n",
       "    }\n",
       "</style>\n",
       "<table border=\"1\" class=\"dataframe\">\n",
       "  <thead>\n",
       "    <tr style=\"text-align: right;\">\n",
       "      <th></th>\n",
       "      <th>name</th>\n",
       "      <th>amenity</th>\n",
       "      <th>lat</th>\n",
       "      <th>lon</th>\n",
       "      <th>Keywords</th>\n",
       "      <th>is_att</th>\n",
       "    </tr>\n",
       "  </thead>\n",
       "  <tbody>\n",
       "    <tr>\n",
       "      <th>8</th>\n",
       "      <td>A.E. Vancouver Private Tours &amp; Charters Inc.</td>\n",
       "      <td>Tours - Sightseeing Tours</td>\n",
       "      <td>49.270196</td>\n",
       "      <td>-123.084309</td>\n",
       "      <td>Wine Tours ; Bus / Coach / Shuttle ; Shuttles ;</td>\n",
       "      <td>1</td>\n",
       "    </tr>\n",
       "    <tr>\n",
       "      <th>9</th>\n",
       "      <td>Abbotsford International Airport - YXX</td>\n",
       "      <td>Airports</td>\n",
       "      <td>49.022629</td>\n",
       "      <td>-122.380490</td>\n",
       "      <td></td>\n",
       "      <td>1</td>\n",
       "    </tr>\n",
       "    <tr>\n",
       "      <th>10</th>\n",
       "      <td>Abbotsford Visitor Centre</td>\n",
       "      <td>Visitor Services</td>\n",
       "      <td>49.036652</td>\n",
       "      <td>-122.266723</td>\n",
       "      <td></td>\n",
       "      <td>1</td>\n",
       "    </tr>\n",
       "    <tr>\n",
       "      <th>12</th>\n",
       "      <td>AC Airways</td>\n",
       "      <td>Airlines &amp; Charters</td>\n",
       "      <td>49.103573</td>\n",
       "      <td>-122.634909</td>\n",
       "      <td>Flightseeing Tours ; Sightseeing Tours ;</td>\n",
       "      <td>1</td>\n",
       "    </tr>\n",
       "    <tr>\n",
       "      <th>13</th>\n",
       "      <td>ACT Adventures</td>\n",
       "      <td>Hiking - Hiking</td>\n",
       "      <td>49.259764</td>\n",
       "      <td>-123.132898</td>\n",
       "      <td>Sightseeing Tours ; Snowshoeing ; Wildlife Vie...</td>\n",
       "      <td>1</td>\n",
       "    </tr>\n",
       "  </tbody>\n",
       "</table>\n",
       "</div>"
      ],
      "text/plain": [
       "                                            name                    amenity  \\\n",
       "8   A.E. Vancouver Private Tours & Charters Inc.  Tours - Sightseeing Tours   \n",
       "9         Abbotsford International Airport - YXX                   Airports   \n",
       "10                     Abbotsford Visitor Centre           Visitor Services   \n",
       "12                                    AC Airways        Airlines & Charters   \n",
       "13                                ACT Adventures            Hiking - Hiking   \n",
       "\n",
       "          lat         lon                                           Keywords  \\\n",
       "8   49.270196 -123.084309   Wine Tours ; Bus / Coach / Shuttle ; Shuttles ;    \n",
       "9   49.022629 -122.380490                                                      \n",
       "10  49.036652 -122.266723                                                      \n",
       "12  49.103573 -122.634909          Flightseeing Tours ; Sightseeing Tours ;    \n",
       "13  49.259764 -123.132898  Sightseeing Tours ; Snowshoeing ; Wildlife Vie...   \n",
       "\n",
       "    is_att  \n",
       "8        1  \n",
       "9        1  \n",
       "10       1  \n",
       "12       1  \n",
       "13       1  "
      ]
     },
     "execution_count": 22,
     "metadata": {},
     "output_type": "execute_result"
    }
   ],
   "source": [
    "# clean the useless tailing massage in amenity column\n",
    "def correct_amenity(line):\n",
    "    return re.split(r' ;',line)[0]\n",
    "BC_ATT['amenity'] = BC_ATT['amenity'].apply(correct_amenity)\n",
    "BC_ATT.head()"
   ]
  },
  {
   "cell_type": "code",
   "execution_count": 24,
   "metadata": {},
   "outputs": [],
   "source": [
    "osm_df = pd.read_json(\"amenities-vancouver.json.gz\",lines = True)"
   ]
  },
  {
   "cell_type": "code",
   "execution_count": 26,
   "metadata": {},
   "outputs": [],
   "source": [
    "osm_df['is_att']=0\n",
    "osm_all = osm_df.append(BC_ATT)"
   ]
  },
  {
   "cell_type": "code",
   "execution_count": 32,
   "metadata": {},
   "outputs": [],
   "source": [
    "osm_all.to_json('osm_expand.json.gz',orient=\"records\",compression='gzip')"
   ]
  },
  {
   "cell_type": "code",
   "execution_count": null,
   "metadata": {},
   "outputs": [],
   "source": []
  }
 ],
 "metadata": {
  "kernelspec": {
   "display_name": "Python 3",
   "language": "python",
   "name": "python3"
  },
  "language_info": {
   "codemirror_mode": {
    "name": "ipython",
    "version": 3
   },
   "file_extension": ".py",
   "mimetype": "text/x-python",
   "name": "python",
   "nbconvert_exporter": "python",
   "pygments_lexer": "ipython3",
   "version": "3.7.3"
  }
 },
 "nbformat": 4,
 "nbformat_minor": 2
}
